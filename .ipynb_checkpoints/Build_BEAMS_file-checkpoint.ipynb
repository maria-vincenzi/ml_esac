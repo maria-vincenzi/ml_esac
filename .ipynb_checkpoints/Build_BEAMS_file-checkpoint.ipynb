{
 "cells": [
  {
   "cell_type": "code",
   "execution_count": 1,
   "metadata": {},
   "outputs": [],
   "source": [
    "from __future__ import division, print_function\n",
    "\n",
    "import time\n",
    "import os\n",
    "import subprocess\n",
    "\n",
    "import numpy as np\n",
    "import matplotlib.pyplot as plt\n",
    "\n",
    "import sncosmo\n",
    "from astropy.table import Table\n",
    "\n",
    "# Used to normalise features\n",
    "from sklearn.preprocessing import StandardScaler \n",
    "# Used for hyperparameter optimisation and to avoid overfitting\n",
    "from sklearn.model_selection import train_test_split, GridSearchCV\n",
    "from sklearn.metrics import accuracy_score\n",
    "from sklearn.metrics import roc_curve, roc_auc_score\n",
    "\n",
    "# Some example algorithms you can try using (sklearn has many more)\n",
    "from sklearn.svm import SVC\n",
    "from sklearn.neighbors import KNeighborsClassifier\n",
    "from sklearn.ensemble import RandomForestClassifier\n",
    "import pandas as pd\n",
    "%matplotlib inline"
   ]
  },
  {
   "cell_type": "code",
   "execution_count": 2,
   "metadata": {},
   "outputs": [
    {
     "name": "stderr",
     "output_type": "stream",
     "text": [
      "/Users/mariavincenzi/anaconda2_7/lib/python2.7/site-packages/sklearn/cross_validation.py:41: DeprecationWarning: This module was deprecated in version 0.18 in favor of the model_selection module into which all the refactored classes and functions are moved. Also note that the interface of the new CV iterators are different from that of this module. This module will be removed in 0.20.\n",
      "  \"This module will be removed in 0.20.\", DeprecationWarning)\n",
      "/Users/mariavincenzi/anaconda2_7/lib/python2.7/site-packages/sklearn/grid_search.py:42: DeprecationWarning: This module was deprecated in version 0.18 in favor of the model_selection module into which all the refactored classes and functions are moved. This module will be removed in 0.20.\n",
      "  DeprecationWarning)\n",
      "/Users/mariavincenzi/anaconda2_7/lib/python2.7/site-packages/sklearn/learning_curve.py:22: DeprecationWarning: This module was deprecated in version 0.18 in favor of the model_selection module into which all the functions are moved. This module will be removed in 0.20\n",
      "  DeprecationWarning)\n",
      "/Users/mariavincenzi/anaconda2_7/lib/python2.7/site-packages/sklearn/lda.py:4: DeprecationWarning: lda.LDA has been moved to discriminant_analysis.LinearDiscriminantAnalysis in 0.17 and will be removed in 0.19\n",
      "  \"in 0.17 and will be removed in 0.19\", DeprecationWarning)\n"
     ]
    }
   ],
   "source": [
    "sn_machine='/Users/mariavincenzi/PhD/SNChallenge/supernova-machine/'\n",
    "\n",
    "from sklearn import preprocessing\n",
    "from sklearn.cross_validation import train_test_split\n",
    "import time\n",
    "\n",
    "import sys\n",
    "import os\n",
    "# the mock-0.3.1 dir contains testcase.py, testutils.py & mock.py\n",
    "max_ml_algorithms_file=sn_machine+'max_ml_algorithms.py'\n",
    "sys.path.append(os.path.dirname(os.path.expanduser(max_ml_algorithms_file)))\n",
    "import max_ml_algorithms as ml_algorithms#, max_tools as tools\n",
    "max_tools_file=sn_machine+'max_tools.py'\n",
    "sys.path.append(os.path.dirname(os.path.expanduser(max_tools_file)))\n",
    "import max_tools as tools"
   ]
  },
  {
   "cell_type": "code",
   "execution_count": 3,
   "metadata": {},
   "outputs": [],
   "source": [
    "def prepare_data4ml_algorithms(feats_file, which_feat, which_feat_err):\n",
    "    f = np.array(feats_file[:, which_feat], dtype='float')\n",
    "    err = np.array(feats_file[:, which_feat_err], dtype='float')\n",
    "    types = np.array(feats_file[:, 1], dtype='int')\n",
    "\n",
    "    X = f[types!=-9, :]\n",
    "    Y = types[types!=-9]\n",
    "    X_err = err[types!=-9, :]\n",
    "\n",
    "    X_scaled, X_err_scaled, mean,std= tools.scale_data_with_errors(X, X_err)\n",
    "    X_combined = np.concatenate((X_scaled, X_err_scaled), axis=1)\n",
    "\n",
    "    #Combine classes into Ia (Y=1), II (Y=2), and Ib and Ic (Y=3)\n",
    "    Y[(Y==21) | (Y==22) | (Y==23)]=2\n",
    "    Y[(Y==32) | (Y==33)]=3\n",
    "    \n",
    "    return X_combined, Y, X_scaled.shape[1], mean, std\n",
    "\n"
   ]
  },
  {
   "cell_type": "code",
   "execution_count": 4,
   "metadata": {},
   "outputs": [],
   "source": [
    "def run_ml_plot(X_combined, Y, Shape):\n",
    "    #Preallocate results table for multiple runs\n",
    "    #NOTE I'M HARD CODING THE NUMBER OF CLASSIFIERS AND PERFORMANCE\n",
    "    #CRITERION HERE\n",
    "    N_runs = 1\n",
    "    N_classifiers = 7\n",
    "    N_scores = 3\n",
    "    results = -999*np.ones([N_classifiers, N_scores, N_runs])\n",
    "    thresholds = -999*np.ones([N_classifiers, N_scores-1, N_runs])\n",
    "\n",
    "    #Run classifiers and return AUC, FoM and F1 for each\n",
    "    for run_counter in np.arange(N_runs):\n",
    "       \n",
    "        X_train_combined, X_test_combined, Y_train, Y_test = train_test_split(\n",
    "        X_combined, Y, test_size=0.5, random_state=np.random.randint(100))\n",
    "        \n",
    "        #Seperate features and errors again\n",
    "        X_train = X_train_combined[:, :Shape]\n",
    "        X_train_err = X_train_combined[:, Shape:]\n",
    "        X_test = X_test_combined[:, :Shape]\n",
    "        X_test_err = X_test_combined[:, Shape:]\n",
    "        \n",
    "        #Run classifiers\n",
    "        results_temp, thresholds_temp, P_RF_test, P_RF_train = tools.run_ml(X_train, Y_train, X_test, Y_test, X_train_err, X_test_err)\n",
    "        results[:, :, run_counter] = results_temp\n",
    "        thresholds[:, :, run_counter] = thresholds_temp\n",
    "        \n",
    "        #Clean up a bit\n",
    "        del results_temp, thresholds_temp, X_train_combined, X_test_combined\n",
    "        \n",
    "    return results, thresholds, P_RF_test, P_RF_train, X_test, X_test_err, Y_test, X_train, X_train_err, Y_train\n",
    "\n"
   ]
  },
  {
   "cell_type": "code",
   "execution_count": 5,
   "metadata": {},
   "outputs": [],
   "source": [
    "start = time.time()\n",
    "\n",
    "feats_log10 = np.genfromtxt('/Users/mariavincenzi/PhD/SNChallenge/ml_esac/salt2_fit_train_sample_complete_log10x0_mb_cov.txt',\\\n",
    "                            dtype='str', comments='#')\n",
    "\n",
    "\n",
    "#Features\n",
    "feat_noz=[8,10,12,14]\n",
    "feat_noz_err=[9,11,13,15]\n",
    "\n",
    "feat_S2z=[6,8,10,12,14]\n",
    "feat_S2z_err=[7,9,11,13,15]\n",
    "\n",
    "feat_zph=[16,18,20,22,24]\n",
    "feat_zph_err=[17,19,21,23,25]\n",
    "\n",
    "feat_zsp=[26,28,30,32,34]\n",
    "feat_zsp_err=[27,29,31,33,35]"
   ]
  },
  {
   "cell_type": "code",
   "execution_count": null,
   "metadata": {},
   "outputs": [],
   "source": []
  },
  {
   "cell_type": "code",
   "execution_count": 6,
   "metadata": {},
   "outputs": [],
   "source": [
    "def results_analysis(RES_XX):\n",
    "    results, thresholds, P_RF_test, P_RF_train, X_test, X_test_err, Y_test, X_train, X_train_err, Y_train = RES_XX\n",
    "    #concatenate:\n",
    "    X=np.concatenate([X_test, X_train])\n",
    "    Y=np.concatenate([Y_test, Y_train])\n",
    "    Xerr=np.concatenate([X_test_err, X_train_err])\n",
    "\n",
    "    P_RF=np.concatenate([P_RF_test, P_RF_train])\n",
    "\n",
    "    Res_Class=np.array([1+np.argmax([P_RF[i,0], P_RF[i,1], P_RF[i,2]])\\\n",
    "                             for i in range(len(Y))])\n",
    "\n",
    "    FN_Ia=((Res_Class!=1))&(Y==1)\n",
    "    FP_Ia=((Res_Class==1))&(Y!=1)\n",
    "    TP_Ia=((Res_Class==1))&(Y==1)\n",
    "    TN_Ia=((Res_Class!=1))&(Y!=1)\n",
    "    \n",
    "    print ('FP', len(Y[FP_Ia]), 'FN', len(Y[FN_Ia]))\n",
    "    print ('TP', len(Y[TP_Ia]), 'TN', len(Y[TN_Ia]))\n",
    "\n",
    "    print ('########  purity: ', np.round(100.*float(len(Y[TP_Ia]))/(len(Y[FP_Ia])+len(Y[TP_Ia]))))\n",
    "    print ('########  efficiency: ', np.round(100*float(len(Y[TP_Ia]))/(len(Y[FN_Ia])+len(Y[TP_Ia]))))\n",
    "    \n",
    "    Res_Class_chop= np.ones(len(Y))*2\n",
    "    Res_Class_chop[P_RF[:,0]>0.95]= 1 \n",
    "    \n",
    "    FN_Ia_c=((Res_Class_chop!=1))&(Y==1)\n",
    "    FP_Ia_c=((Res_Class_chop==1))&(Y!=1)\n",
    "    TP_Ia_c=((Res_Class_chop==1))&(Y==1)\n",
    "    TN_Ia_c=((Res_Class_chop!=1))&(Y!=1)\n",
    "    print ('FP', len(Y[FP_Ia_c]), 'FN', len(Y[FN_Ia_c]))\n",
    "    print ('TP', len(Y[TP_Ia_c]), 'TN', len(Y[TN_Ia_c]))\n",
    "    \n",
    "    print ('########  purity chopping: ', np.round(100.*float(len(Y[TP_Ia_c]))/(len(Y[FP_Ia_c])+len(Y[TP_Ia_c]))))\n",
    "    print ('########  efficiency chopping: ', np.round(100*float(len(Y[TP_Ia_c]))/(len(Y[FN_Ia_c])+len(Y[TP_Ia_c]))))\n",
    "    \n",
    "    \n",
    "    return X, Xerr, Y, P_RF"
   ]
  },
  {
   "cell_type": "code",
   "execution_count": 7,
   "metadata": {},
   "outputs": [
    {
     "name": "stdout",
     "output_type": "stream",
     "text": [
      "scale_data_with_errors [  0.48609924  20.19182562  -4.98805151   0.54853206   0.08203901] [  0.19489316  13.96890828   0.34595882   1.55536044   0.20768959]\n",
      "KNN optimiser time taken: 0.488259077072\n",
      "('FeatImp', array([ 0.25473207,  0.09141187,  0.08530911,  0.30622335,  0.2623236 ]))\n",
      "('FeatImp', array([ 0.23489939,  0.09312206,  0.08593606,  0.28311251,  0.30292999]))\n",
      "('FeatImp', array([ 0.26258948,  0.09612188,  0.08234061,  0.29453846,  0.26440958]))\n",
      "('FeatImp', array([ 0.23795838,  0.08936916,  0.08541024,  0.28112507,  0.30613714]))\n",
      "('FeatImp', array([ 0.26456984,  0.09025738,  0.08721597,  0.30090286,  0.25705395]))\n",
      "('FeatImp', array([ 0.23942405,  0.09113848,  0.0838165 ,  0.28030062,  0.30532035]))\n",
      "('FeatImp', array([ 0.25965973,  0.08815523,  0.08589575,  0.30219486,  0.26409442]))\n",
      "('FeatImp', array([ 0.23447041,  0.09208205,  0.08440801,  0.28158773,  0.30745181]))\n",
      "('FeatImp', array([ 0.25961062,  0.09065282,  0.0861568 ,  0.29950122,  0.26407854]))\n",
      "('FeatImp', array([ 0.23858611,  0.09195282,  0.0844377 ,  0.27625965,  0.30876372]))\n",
      "RF optimisier time taken: 43.6038980484\n",
      "AdaBoost optimiser time taken: 26.3527779579\n",
      "RBF SVM optimiser time taken: 1.50307202339\n",
      "('FeatImp', array([ 0.26176351,  0.09171239,  0.0864803 ,  0.29663634,  0.26340745]))\n",
      "('FeatImp', array([ 0.17298004,  0.0895238 ,  0.1005433 ,  0.33491139,  0.30204147]))\n",
      "\n",
      "AUC, F1, FoM, Purity, Efficiency:\n",
      "RBF SVM 0.991435210808 0.974952853776 0.925754440451\n",
      "Bayes 0.953870482265 0.940832853287 0.795991237574\n",
      "KNN 0.984642150306 0.966323235918 0.891836633094\n",
      "Random forest 0.988248671266 0.968997029274 0.882527789151\n",
      "AdaBoost forest 0.988117014663 0.96940404628 0.885158015283\n",
      "ANN 0.93454503187 0.930151244105 0.753119943693\n",
      "MCS 0.991805615141 0.973338048091 0.920332784832\n",
      "Purity, Efficiency:\n",
      "RBF SVM 0.952706333159 0.914290644147\n",
      "Bayes 0.985350587652 0.931805603485\n",
      "KNN 0.972713506965 0.956785581738\n",
      "Random forest 0.970726535128 0.965279360346\n",
      "AdaBoost forest 0.988205231054 0.958927745909\n",
      "ANN 0.937811679099 0.902951498538\n",
      "MCS 0.990623707149 0.946458917979\n"
     ]
    },
    {
     "data": {
      "image/png": "[encoded data removed]",
      "text/plain": [
       "<matplotlib.figure.Figure at 0x118a7bc50>"
      ]
     },
     "metadata": {},
     "output_type": "display_data"
    }
   ],
   "source": [
    "X_combined, Y_keys , Sh, mean_zsp, std_zsp= prepare_data4ml_algorithms(feats_log10, feat_zsp, feat_zsp_err)\n",
    "RES_zsp=run_ml_plot(X_combined, Y_keys, Sh)"
   ]
  },
  {
   "cell_type": "code",
   "execution_count": 8,
   "metadata": {},
   "outputs": [
    {
     "name": "stdout",
     "output_type": "stream",
     "text": [
      "FP 28 FN 25\n",
      "TP 759 TN 314\n",
      "########  purity:  96.0\n",
      "########  efficiency:  97.0\n",
      "FP 1 FN 178\n",
      "TP 606 TN 341\n",
      "########  purity chopping:  100.0\n",
      "########  efficiency chopping:  77.0\n"
     ]
    }
   ],
   "source": [
    "X, Xerr, Y, Prob= results_analysis(RES_zsp)"
   ]
  },
  {
   "cell_type": "code",
   "execution_count": 9,
   "metadata": {},
   "outputs": [],
   "source": [
    "lowz=np.genfromtxt('/Users/mariavincenzi/PhD/MyBEAMS/PS1_SIM_lowzSample.FITRES', names=True, dtype=None)\n",
    "\n",
    "def conc(x,y):\n",
    "    return np.concatenate([x,y])\n"
   ]
  },
  {
   "cell_type": "code",
   "execution_count": 55,
   "metadata": {},
   "outputs": [
    {
     "ename": "TypeError",
     "evalue": "copy() got an unexpected keyword argument 'dtype'",
     "output_type": "error",
     "traceback": [
      "\u001b[0;31m---------------------------------------------------------------------------\u001b[0m",
      "\u001b[0;31mTypeError\u001b[0m                                 Traceback (most recent call last)",
      "\u001b[0;32m<ipython-input-55-0f1e0ade9085>\u001b[0m in \u001b[0;36m<module>\u001b[0;34m()\u001b[0m\n\u001b[0;32m----> 1\u001b[0;31m \u001b[0mz\u001b[0m \u001b[0;34m=\u001b[0m \u001b[0mnp\u001b[0m\u001b[0;34m.\u001b[0m\u001b[0mcopy\u001b[0m\u001b[0;34m(\u001b[0m\u001b[0;34m(\u001b[0m\u001b[0mX\u001b[0m\u001b[0;34m[\u001b[0m\u001b[0;34m:\u001b[0m\u001b[0;34m,\u001b[0m\u001b[0;36m0\u001b[0m\u001b[0;34m]\u001b[0m\u001b[0;34m*\u001b[0m\u001b[0mstd_zsp\u001b[0m\u001b[0;34m[\u001b[0m\u001b[0;36m0\u001b[0m\u001b[0;34m]\u001b[0m\u001b[0;34m)\u001b[0m\u001b[0;34m+\u001b[0m\u001b[0mmean_zsp\u001b[0m\u001b[0;34m[\u001b[0m\u001b[0;36m0\u001b[0m\u001b[0;34m]\u001b[0m\u001b[0;34m,\u001b[0m \u001b[0mdtype\u001b[0m\u001b[0;34m=\u001b[0m\u001b[0mfloat\u001b[0m\u001b[0;34m)\u001b[0m\u001b[0;34m\u001b[0m\u001b[0m\n\u001b[0m\u001b[1;32m      2\u001b[0m \u001b[0mt0\u001b[0m \u001b[0;34m=\u001b[0m\u001b[0mnp\u001b[0m\u001b[0;34m.\u001b[0m\u001b[0mcopy\u001b[0m\u001b[0;34m(\u001b[0m\u001b[0;34m(\u001b[0m\u001b[0mX\u001b[0m\u001b[0;34m[\u001b[0m\u001b[0;34m:\u001b[0m\u001b[0;34m,\u001b[0m\u001b[0;36m1\u001b[0m\u001b[0;34m]\u001b[0m\u001b[0;34m*\u001b[0m\u001b[0mstd_zsp\u001b[0m\u001b[0;34m[\u001b[0m\u001b[0;36m1\u001b[0m\u001b[0;34m]\u001b[0m\u001b[0;34m)\u001b[0m\u001b[0;34m+\u001b[0m\u001b[0mmean_zsp\u001b[0m\u001b[0;34m[\u001b[0m\u001b[0;36m1\u001b[0m\u001b[0;34m]\u001b[0m\u001b[0;34m,\u001b[0m \u001b[0mdtype\u001b[0m\u001b[0;34m=\u001b[0m\u001b[0mfloat\u001b[0m\u001b[0;34m)\u001b[0m\u001b[0;34m\u001b[0m\u001b[0m\n\u001b[1;32m      3\u001b[0m \u001b[0mx0\u001b[0m \u001b[0;34m=\u001b[0m\u001b[0mnp\u001b[0m\u001b[0;34m.\u001b[0m\u001b[0mcopy\u001b[0m\u001b[0;34m(\u001b[0m\u001b[0;34m(\u001b[0m\u001b[0mX\u001b[0m\u001b[0;34m[\u001b[0m\u001b[0;34m:\u001b[0m\u001b[0;34m,\u001b[0m\u001b[0;36m2\u001b[0m\u001b[0;34m]\u001b[0m\u001b[0;34m*\u001b[0m\u001b[0mstd_zsp\u001b[0m\u001b[0;34m[\u001b[0m\u001b[0;36m2\u001b[0m\u001b[0;34m]\u001b[0m\u001b[0;34m)\u001b[0m\u001b[0;34m+\u001b[0m\u001b[0mmean_zsp\u001b[0m\u001b[0;34m[\u001b[0m\u001b[0;36m2\u001b[0m\u001b[0;34m]\u001b[0m\u001b[0;34m,\u001b[0m \u001b[0mdtype\u001b[0m\u001b[0;34m=\u001b[0m\u001b[0mfloat\u001b[0m\u001b[0;34m)\u001b[0m\u001b[0;34m\u001b[0m\u001b[0m\n\u001b[1;32m      4\u001b[0m \u001b[0mx1\u001b[0m \u001b[0;34m=\u001b[0m\u001b[0mnp\u001b[0m\u001b[0;34m.\u001b[0m\u001b[0mcopy\u001b[0m\u001b[0;34m(\u001b[0m\u001b[0;34m(\u001b[0m\u001b[0mX\u001b[0m\u001b[0;34m[\u001b[0m\u001b[0;34m:\u001b[0m\u001b[0;34m,\u001b[0m\u001b[0;36m3\u001b[0m\u001b[0;34m]\u001b[0m\u001b[0;34m*\u001b[0m\u001b[0mstd_zsp\u001b[0m\u001b[0;34m[\u001b[0m\u001b[0;36m3\u001b[0m\u001b[0;34m]\u001b[0m\u001b[0;34m)\u001b[0m\u001b[0;34m+\u001b[0m\u001b[0mmean_zsp\u001b[0m\u001b[0;34m[\u001b[0m\u001b[0;36m3\u001b[0m\u001b[0;34m]\u001b[0m\u001b[0;34m,\u001b[0m \u001b[0mdtype\u001b[0m\u001b[0;34m=\u001b[0m\u001b[0mfloat\u001b[0m\u001b[0;34m)\u001b[0m\u001b[0;34m\u001b[0m\u001b[0m\n\u001b[1;32m      5\u001b[0m \u001b[0mc\u001b[0m \u001b[0;34m=\u001b[0m \u001b[0mnp\u001b[0m\u001b[0;34m.\u001b[0m\u001b[0mcopy\u001b[0m\u001b[0;34m(\u001b[0m\u001b[0;34m(\u001b[0m\u001b[0mX\u001b[0m\u001b[0;34m[\u001b[0m\u001b[0;34m:\u001b[0m\u001b[0;34m,\u001b[0m\u001b[0;36m4\u001b[0m\u001b[0;34m]\u001b[0m\u001b[0;34m*\u001b[0m\u001b[0mstd_zsp\u001b[0m\u001b[0;34m[\u001b[0m\u001b[0;36m4\u001b[0m\u001b[0;34m]\u001b[0m\u001b[0;34m)\u001b[0m\u001b[0;34m+\u001b[0m\u001b[0mmean_zsp\u001b[0m\u001b[0;34m[\u001b[0m\u001b[0;36m4\u001b[0m\u001b[0;34m]\u001b[0m\u001b[0;34m,\u001b[0m \u001b[0mdtype\u001b[0m\u001b[0;34m=\u001b[0m\u001b[0mfloat\u001b[0m\u001b[0;34m)\u001b[0m\u001b[0;34m\u001b[0m\u001b[0m\n",
      "\u001b[0;31mTypeError\u001b[0m: copy() got an unexpected keyword argument 'dtype'"
     ]
    }
   ],
   "source": [
    "z = np.copy((X[:,0]*std_zsp[0])+mean_zsp[0], dtype=float)\n",
    "t0 =np.copy((X[:,1]*std_zsp[1])+mean_zsp[1], dtype=float)\n",
    "x0 =np.copy((X[:,2]*std_zsp[2])+mean_zsp[2], dtype=float)\n",
    "x1 =np.copy((X[:,3]*std_zsp[3])+mean_zsp[3], dtype=float)\n",
    "c = np.copy((X[:,4]*std_zsp[4])+mean_zsp[4], dtype=float)\n",
    "true_type = Y\n",
    "\n",
    "z_err = np.copy((Xerr[:,0]*std_zsp[0]), dtype=float)\n",
    "t0_err =np.copy((Xerr[:,1]*std_zsp[1]), dtype=float)\n",
    "x0_err =np.copy((Xerr[:,2]*std_zsp[2]), dtype=float)\n",
    "x1_err =np.copy((Xerr[:,3]*std_zsp[3]), dtype=float)\n",
    "c_err = np.copy((Xerr[:,4]*std_zsp[4]), dtype=float)\n",
    "\n",
    "alpha=0.11\n",
    "beta=2.6\n",
    "mB= 30.-19.46-2.5*(x0)+alpha*x1-beta*c\n",
    "mB_err= ((2.5*(x0_err))**2+alpha*x1_err**2-beta*c_err**2)**0.5\n",
    "\n",
    "cid_fake = np.arange(0, len(z), 1)\n",
    "P_Ia = Prob[:,0]\n",
    "idsurvey_fake = 15*np.ones(len(z))\n",
    "field_fake = np.array(['NULL' for i in range(len(z))])\n",
    "hostM_fake = -9.000*np.ones(len(z))\n",
    "hostMerr_fake = -9.000*np.ones(len(z))"
   ]
  },
  {
   "cell_type": "code",
   "execution_count": 56,
   "metadata": {},
   "outputs": [],
   "source": [
    "np.copy?"
   ]
  },
  {
   "cell_type": "code",
   "execution_count": 49,
   "metadata": {},
   "outputs": [
    {
     "name": "stdout",
     "output_type": "stream",
     "text": [
      "[array([920])]\n",
      "[array([644])]\n",
      "[array([625])]\n",
      "Nan 0.718000 0.169 0.0141\n",
      "[array([499])]\n",
      "[array([205])]\n",
      "[array([684])]\n",
      "[array([555])]\n",
      "[array([83])]\n",
      "[array([727])]\n",
      "[array([853])]\n",
      "[array([415])]\n",
      "[array([835])]\n"
     ]
    }
   ],
   "source": [
    "file_redshift=np.array([np.round(float(zi),6) for zi in feats_log10[:,26]])\n",
    "file_x1=np.array([np.round(float(zi),3) for zi in feats_log10[:,32]])\n",
    "file_colors=np.array([np.round(float(zi),4) for zi in feats_log10[:,34]])\n",
    "\n",
    "des_file_associated=[]\n",
    "mb_associated=[]\n",
    "COV_x1_c=[]\n",
    "COV_x1_x0=[]\n",
    "COV_c_x0=[]\n",
    "\n",
    "for i in range(len(z)):\n",
    "    z_=np.round(z[i],6); x1_=np.round(x1[i],3); c_=np.round(c[i],4)\n",
    "    ind = np.where(file_redshift==z_)[0]\n",
    "    ind2 = np.where(file_x1==x1_)[0]\n",
    "    ind3 = np.where(file_colors==c_)[0]\n",
    "    index_file = np.intersect1d(np.intersect1d(ind, ind2), ind3)\n",
    "    if len(index_file)!=1: \n",
    "        index_file_2= np.intersect1d(ind, ind3)\n",
    "        index_file_3= np.intersect1d(ind, ind2)\n",
    "        index_file_4= np.intersect1d(ind3, ind2)\n",
    "        if np.any([len(index_file_2)==1, len(index_file_3)==1, len(index_file_4)==1]):\n",
    "            index_file= np.array([\\\n",
    "                        index_file_2, index_file_3, index_file_4])[\\\n",
    "                             np.where([len(index_file_2)==1, len(index_file_3)==1, len(index_file_4)==1])[0]]\n",
    "            print (index_file)\n",
    "            des_file_associated.append((feats_log10[:,0])[index_file[0][0]])\n",
    "            mb_associated.append(float((feats_log10[:,36])[index_file[0][0]]))\n",
    "            COV_x1_c.append(float((feats_log10[:,37])[index_file[0][0]]))\n",
    "            COV_x1_x0.append(float((feats_log10[:,38])[index_file[0][0]]))\n",
    "            COV_c_x0.append(float((feats_log10[:,39])[index_file[0][0]]))\n",
    "        else: \n",
    "            des_file_associated.append('')\n",
    "            mb_associated.append(np.nan)\n",
    "            COV_x1_c.append(-9.0)                \n",
    "            COV_x1_x0.append(-9.0)                \n",
    "            COV_c_x0.append(-9.0)\n",
    "            print ('Nan', '%.6f'%z_, x1_, c_)\n",
    "    else:\n",
    "        des_file_associated.append((feats_log10[:,0])[index_file[0]])\n",
    "        mb_associated.append(float((feats_log10[:,36])[index_file[0]]))\n",
    "        COV_x1_c.append(float((feats_log10[:,37])[index_file[0]]))\n",
    "        COV_x1_x0.append(float((feats_log10[:,38])[index_file[0]]))\n",
    "        COV_c_x0.append(float((feats_log10[:,39])[index_file[0]]))\n",
    "\n",
    "COV_x1_c=np.array(COV_x1_c)\n",
    "COV_x1_x0=np.array(COV_x1_x0)\n",
    "COV_c_x0=np.array(COV_c_x0)\n"
   ]
  },
  {
   "cell_type": "code",
   "execution_count": 47,
   "metadata": {},
   "outputs": [
    {
     "name": "stdout",
     "output_type": "stream",
     "text": [
      "DES_SN010431.DAT\n"
     ]
    }
   ],
   "source": [
    "for files in (feats_log10[:,0]):\n",
    "    if files not in des_file_associated:\n",
    "        print (files)"
   ]
  },
  {
   "cell_type": "code",
   "execution_count": 14,
   "metadata": {},
   "outputs": [],
   "source": [
    "### CASE 1: Spec + Phot, no probabilities cut\n",
    "### CASE 1: Spec + Phot, no probabilities cut\n",
    "\n",
    "from astropy.io import ascii\n",
    "# CID    # IDSURVEY    # TYPE    # FIELD    \n",
    "# zHD    # zHDERR    # HOST_LOGMASS    # HOST_LOGMASS_ERR    \n",
    "# PKMJD    ## this doesn't really care, what's important is the error on the peak day\n",
    "# PKMJDERR     ## this is what matters, I use the one from SALT2\n",
    "# x1    # x1ERR    # c    # cERR    \n",
    "# mB    # mBERR    # x0    # x0ERR    # COV_x1_c    # COV_x1_x0    # COV_c_x0    \n",
    "# PNN_Ia  #FITCHI2 FITPROB PNN_Ia PTRUE_Ia SIM_TYPE_INDEX SIM_ZCMB\n",
    "\n",
    "conc_cid=conc(cid_fake, lowz['CID'])\n",
    "sn_init=['SN:' for i in range(len(conc_cid))]\n",
    "\n",
    "ascii.write([sn_init,\\\n",
    "            conc_cid,\\\n",
    "            conc(idsurvey_fake, lowz['IDSURVEY']),\\\n",
    "            conc(field_fake, lowz['FIELD']),\\\n",
    "            conc(z, lowz['zHD']),\\\n",
    "            conc(z_err, lowz['zHDERR']),\\\n",
    "            conc(hostM_fake , lowz['HOST_LOGMASS']),\\\n",
    "            conc(hostMerr_fake , lowz['HOST_LOGMASS_ERR']),\\\n",
    "            conc(t0 , lowz['PKMJD']),\\\n",
    "            conc(t0_err , lowz['PKMJDERR']),\\\n",
    "            conc(x1 , lowz['x1']),\\\n",
    "            conc(x1_err , lowz['x1ERR']),\\\n",
    "            conc(c , lowz['c']),\\\n",
    "            conc(c_err , lowz['cERR']),\\\n",
    "            conc(mB , lowz['mB']),\\\n",
    "            conc(mB_err , lowz['mBERR']),\\\n",
    "            conc(x0 , lowz['x0']),\\\n",
    "            conc(x0_err , lowz['x0ERR']),\\\n",
    "            conc(COV_x1_c , lowz['COV_x1_c']),\\\n",
    "            conc(COV_x1_x0 , lowz['COV_x1_x0']),\\\n",
    "            conc(COV_c_x0 , lowz['COV_c_x0']),\\\n",
    "            conc(P_Ia,lowz['PNN_Ia']),\n",
    "            conc(P_Ia,lowz['PNN_Ia']),\n",
    "            conc(true_type,lowz['TYPE']),\n",
    "            conc(-9.0*np.ones(len(z)),lowz['SNRMAX1']), #useless columns\n",
    "            conc(-9.0*np.ones(len(z)),lowz['SNRMAX2']), #useless columns\n",
    "            conc(-9.0*np.ones(len(z)),lowz['SNRMAX3']), #useless columns\n",
    "            conc(-9.0*np.ones(len(z)),lowz['NDOF']), #useless column\n",
    "            conc(-9.0*np.ones(len(z)),lowz['FITCHI2']), #useless column\n",
    "            conc(-9.0*np.ones(len(z)),lowz['SIM_TYPE_INDEX']), #useless column\n",
    "            conc(-9.0*np.ones(len(z)),lowz['PTRUE_Ia']), #useless column\n",
    "            conc(-9.0*np.ones(len(z)),lowz['SIM_ZCMB'])], #useless column\n",
    "            '/Users/mariavincenzi/PhD/MyBEAMS/Test/BEAMS/SNchallenge_data/DESSIM+lowz_sample.dat', \\\n",
    "            names=['VARNAMES:','CID','IDSURVEY', 'FIELD', 'zHD','zHDERR',\\\n",
    "                   'HOST_LOGMASS','HOST_LOGMASS_ERR','PKMJD','PKMJDERR',\\\n",
    "                   'x1','x1ERR', 'c', 'cERR','mB', 'mBERR','x0','x0ERR','COV_x1_c',\\\n",
    "                  'COV_x1_x0', 'COV_c_x0', 'PNN_Ia', 'FITPROB','TYPE', 'SNRMAX1', 'SNRMAX2', 'SNRMAX3',\\\n",
    "                  'NDOF', 'FITCHI2','SIM_TYPE_INDEX','PTRUE_Ia','SIM_ZCMB'],\n",
    "            overwrite=True)"
   ]
  },
  {
   "cell_type": "code",
   "execution_count": 15,
   "metadata": {},
   "outputs": [],
   "source": [
    "### CASE 2: Spec + Phot, probabilities cut 0.95\n",
    "### CASE 2: Spec + Phot, probabilities cut 0.95\n",
    "\n",
    "from astropy.io import ascii\n",
    "# CID    # IDSURVEY    # TYPE    # FIELD    \n",
    "# zHD    # zHDERR    # HOST_LOGMASS    # HOST_LOGMASS_ERR    \n",
    "# PKMJD    ## this doesn't really care, what's important is the error on the peak day\n",
    "# PKMJDERR     ## this is what matters, I use the one from SALT2\n",
    "# x1    # x1ERR    # c    # cERR    \n",
    "# mB    # mBERR    # x0    # x0ERR    # COV_x1_c    # COV_x1_x0    # COV_c_x0    \n",
    "# PNN_Ia \n",
    "\n",
    "filtra=P_Ia>0.95\n",
    "P_Ia_case2 = P_Ia[filtra]\n",
    "idsurvey_fake_case2 = 53*np.ones(len(z[filtra]))\n",
    "\n",
    "conc_cid_case2=conc(cid_fake[filtra], lowz['CID'])\n",
    "sn_init_case2=['SN:' for i in range(len(conc_cid_case2))]\n",
    "\n",
    "ascii.write([sn_init_case2,\\\n",
    "            conc_cid_case2,\\\n",
    "            conc(idsurvey_fake_case2, lowz['IDSURVEY']),\\\n",
    "            conc(field_fake[filtra], lowz['FIELD']),\\\n",
    "            conc(z[filtra], lowz['zHD']),\\\n",
    "            conc(z_err[filtra], lowz['zHDERR']),\\\n",
    "            conc(hostM_fake[filtra] , lowz['HOST_LOGMASS']),\\\n",
    "            conc(hostMerr_fake[filtra] , lowz['HOST_LOGMASS_ERR']),\\\n",
    "            conc(t0[filtra] , lowz['PKMJD']),\\\n",
    "            conc(t0_err[filtra] , lowz['PKMJDERR']),\\\n",
    "            conc(x1[filtra] , lowz['x1']),\\\n",
    "            conc(x1_err[filtra] , lowz['x1ERR']),\\\n",
    "            conc(c[filtra] , lowz['c']),\\\n",
    "            conc(c_err[filtra] , lowz['cERR']),\\\n",
    "            conc(mB[filtra] , lowz['mB']),\\\n",
    "            conc(mB_err[filtra] , lowz['mBERR']),\\\n",
    "            conc(x0[filtra] , lowz['x0']),\\\n",
    "            conc(x0_err[filtra] , lowz['x0ERR']),\\\n",
    "            conc(COV_x1_c[filtra] , lowz['COV_x1_c']),\\\n",
    "            conc(COV_x1_x0[filtra] , lowz['COV_x1_x0']),\\\n",
    "            conc(COV_c_x0[filtra] , lowz['COV_c_x0']),\\\n",
    "            conc(np.ones(len(P_Ia_case2)), lowz['PNN_Ia']),\\\n",
    "            conc(np.ones(len(P_Ia_case2)), lowz['PNN_Ia']),\\\n",
    "            conc(np.ones(len(P_Ia_case2)), lowz['TYPE']),\\\n",
    "            conc(P_Ia_case2, lowz['PNN_Ia']),\\\n",
    "            conc(-9.0*np.ones(len(z[filtra])),lowz['SNRMAX1']), #useless columns\n",
    "            conc(-9.0*np.ones(len(z[filtra])),lowz['SNRMAX2']), #useless columns\n",
    "            conc(-9.0*np.ones(len(z[filtra])),lowz['SNRMAX3']), #useless columns\n",
    "            conc(-9.0*np.ones(len(z[filtra])),lowz['NDOF']), #useless column\n",
    "            conc(-9.0*np.ones(len(z[filtra])),lowz['FITCHI2']), #useless column\n",
    "            conc(-9.0*np.ones(len(z[filtra])),lowz['SIM_TYPE_INDEX']), #useless column\n",
    "            conc(-9.0*np.ones(len(z[filtra])),lowz['PTRUE_Ia']), #useless column\n",
    "            conc(-9.0*np.ones(len(z[filtra])),lowz['SIM_ZCMB']), #useless column\n",
    "            ], '/Users/mariavincenzi/PhD/MyBEAMS/Test/BEAMS/SNchallenge_data/DESSIM+lowz_sample_PIaCUT.dat', \\\n",
    "            names=['VARNAMES:','CID','IDSURVEY', 'FIELD',\\\n",
    "                   'zHD','zHDERR','HOST_LOGMASS','HOST_LOGMASS_ERR','PKMJD','PKMJDERR',\\\n",
    "                   'x1','x1ERR', 'c', 'cERR','mB', 'mBERR','x0','x0ERR','COV_x1_c',\\\n",
    "                  'COV_x1_x0', 'COV_c_x0', 'PNN_Ia','FITPROB','TYPE','P_Orig_Ia', 'SNRMAX1', 'SNRMAX2', 'SNRMAX3',\\\n",
    "                  'NDOF', 'FITCHI2','SIM_TYPE_INDEX','PTRUE_Ia','SIM_ZCMB'],\n",
    "            overwrite=True)"
   ]
  },
  {
   "cell_type": "code",
   "execution_count": null,
   "metadata": {},
   "outputs": [],
   "source": []
  },
  {
   "cell_type": "code",
   "execution_count": 18,
   "metadata": {},
   "outputs": [
    {
     "data": {
      "text/plain": [
       "True"
      ]
     },
     "execution_count": 18,
     "metadata": {},
     "output_type": "execute_result"
    }
   ],
   "source": [
    "np.any(np.isnan(COV_x1_c))\n",
    "np.any(np.isnan(COV_x1_x0))"
   ]
  },
  {
   "cell_type": "code",
   "execution_count": null,
   "metadata": {},
   "outputs": [],
   "source": []
  }
 ],
 "metadata": {
  "anaconda-cloud": {},
  "kernelspec": {
   "display_name": "Python [conda root]",
   "language": "python",
   "name": "conda-root-py"
  },
  "language_info": {
   "codemirror_mode": {
    "name": "ipython",
    "version": 2
   },
   "file_extension": ".py",
   "mimetype": "text/x-python",
   "name": "python",
   "nbconvert_exporter": "python",
   "pygments_lexer": "ipython2",
   "version": "2.7.12"
  }
 },
 "nbformat": 4,
 "nbformat_minor": 2
}
