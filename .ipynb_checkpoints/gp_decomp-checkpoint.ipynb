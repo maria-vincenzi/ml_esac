{
 "cells": [
  {
   "cell_type": "code",
   "execution_count": 1,
   "metadata": {},
   "outputs": [],
   "source": [
    "from __future__ import division, print_function\n",
    "\n",
    "import time\n",
    "import os\n",
    "import subprocess\n",
    "\n",
    "import numpy as np\n",
    "import matplotlib.pyplot as plt\n",
    "\n",
    "import sncosmo\n",
    "from astropy.table import Table\n",
    "\n",
    "# Used to normalise features\n",
    "from sklearn.preprocessing import StandardScaler \n",
    "# Used for hyperparameter optimisation and to avoid overfitting\n",
    "from sklearn.model_selection import train_test_split, GridSearchCV\n",
    "from sklearn.metrics import accuracy_score\n",
    "from sklearn.metrics import roc_curve, roc_auc_score\n",
    "import numpy as np\n",
    "# Some example algorithms you can try using (sklearn has many more)\n",
    "from sklearn.svm import SVC\n",
    "from sklearn.neighbors import KNeighborsClassifier\n",
    "from sklearn.ensemble import RandomForestClassifier\n",
    "import pandas as pd\n",
    "%matplotlib inline"
   ]
  },
  {
   "cell_type": "code",
   "execution_count": 2,
   "metadata": {},
   "outputs": [
    {
     "name": "stderr",
     "output_type": "stream",
     "text": [
      "/Users/mariavincenzi/anaconda2_7/lib/python2.7/site-packages/sklearn/cross_validation.py:41: DeprecationWarning: This module was deprecated in version 0.18 in favor of the model_selection module into which all the refactored classes and functions are moved. Also note that the interface of the new CV iterators are different from that of this module. This module will be removed in 0.20.\n",
      "  \"This module will be removed in 0.20.\", DeprecationWarning)\n",
      "/Users/mariavincenzi/anaconda2_7/lib/python2.7/site-packages/sklearn/grid_search.py:42: DeprecationWarning: This module was deprecated in version 0.18 in favor of the model_selection module into which all the refactored classes and functions are moved. This module will be removed in 0.20.\n",
      "  DeprecationWarning)\n",
      "/Users/mariavincenzi/anaconda2_7/lib/python2.7/site-packages/sklearn/learning_curve.py:22: DeprecationWarning: This module was deprecated in version 0.18 in favor of the model_selection module into which all the functions are moved. This module will be removed in 0.20\n",
      "  DeprecationWarning)\n",
      "/Users/mariavincenzi/anaconda2_7/lib/python2.7/site-packages/sklearn/lda.py:4: DeprecationWarning: lda.LDA has been moved to discriminant_analysis.LinearDiscriminantAnalysis in 0.17 and will be removed in 0.19\n",
      "  \"in 0.17 and will be removed in 0.19\", DeprecationWarning)\n"
     ]
    }
   ],
   "source": [
    "sn_machine='/Users/mariavincenzi/PhD/SNChallenge/supernova-machine/'\n",
    "\n",
    "from sklearn import preprocessing\n",
    "from sklearn.cross_validation import train_test_split\n",
    "import time\n",
    "\n",
    "import sys\n",
    "import os\n",
    "# the mock-0.3.1 dir contains testcase.py, testutils.py & mock.py\n",
    "max_ml_algorithms_file=sn_machine+'max_ml_algorithms.py'\n",
    "sys.path.append(os.path.dirname(os.path.expanduser(max_ml_algorithms_file)))\n",
    "import max_ml_algorithms as ml_algorithms#, max_tools as tools\n",
    "max_tools_file=sn_machine+'max_tools.py'\n",
    "sys.path.append(os.path.dirname(os.path.expanduser(max_tools_file)))\n",
    "import max_tools as tools\n",
    "mine_file=sn_machine+'maria_gp_wvl_decomp.py'\n",
    "sys.path.append(os.path.dirname(os.path.expanduser(mine_file)))\n",
    "import maria_gp_wvl_decomp as mine"
   ]
  },
  {
   "cell_type": "code",
   "execution_count": 3,
   "metadata": {},
   "outputs": [],
   "source": [
    "from astropy.io import ascii\n",
    "mypath='/Users/mariavincenzi/PhD/SNChallenge/DES_BLIND+HOSTZ/'\n",
    "from os import listdir\n",
    "from os.path import isfile, join\n",
    "onlyfiles = [f for f in listdir(mypath) if (isfile(join(mypath, f)))&(f[-3:]=='DAT')]"
   ]
  },
  {
   "cell_type": "code",
   "execution_count": 4,
   "metadata": {},
   "outputs": [],
   "source": [
    "def prepare_lc(filename):\n",
    "    data=np.genfromtxt(mypath+filename, names=True, skip_header=22, skip_footer=1,\n",
    "                   dtype=None, comments='DETECTION', usecols=[1,2,4,5])\n",
    "    filter_list=['des'+i for i in data['FLT']]\n",
    "    mjd_fromfirst=[d-data['MJD'][0] for d in data['MJD']]\n",
    "\n",
    "    lc=Table(data, names=['general_mjd', 'single_filter','flux', 'flux_error'])\n",
    "    zp=np.ones(len(data))*(27.5)\n",
    "    zpsys=(['ab' for i in range(len(data))])\n",
    "    lc.add_columns([Table.Column(name='mjd', data=mjd_fromfirst), \\\n",
    "                Table.Column(name='filter', data=filter_list), \\\n",
    "                Table.Column(name='zp', data=zp), \\\n",
    "                Table.Column(name='zpsys', data=zpsys)])\n",
    "    return lc"
   ]
  },
  {
   "cell_type": "code",
   "execution_count": 5,
   "metadata": {},
   "outputs": [],
   "source": [
    "lc_ready=prepare_lc(onlyfiles[20])"
   ]
  },
  {
   "cell_type": "code",
   "execution_count": 7,
   "metadata": {},
   "outputs": [],
   "source": [
    "res=mine.GPonLC(lc_ready)"
   ]
  },
  {
   "cell_type": "code",
   "execution_count": 9,
   "metadata": {},
   "outputs": [
    {
     "ename": "NameError",
     "evalue": "global name 'dict_results' is not defined",
     "output_type": "error",
     "traceback": [
      "\u001b[0;31m---------------------------------------------------------------------------\u001b[0m",
      "\u001b[0;31mNameError\u001b[0m                                 Traceback (most recent call last)",
      "\u001b[0;32m<ipython-input-9-7efa30087b14>\u001b[0m in \u001b[0;36m<module>\u001b[0;34m()\u001b[0m\n\u001b[0;32m----> 1\u001b[0;31m \u001b[0mdecomp\u001b[0m\u001b[0;34m=\u001b[0m\u001b[0mmine\u001b[0m\u001b[0;34m.\u001b[0m\u001b[0mwlt_decomp\u001b[0m\u001b[0;34m(\u001b[0m\u001b[0mres\u001b[0m\u001b[0;34m)\u001b[0m\u001b[0;34m\u001b[0m\u001b[0m\n\u001b[0m",
      "\u001b[0;32m/Users/mariavincenzi/PhD/SNChallenge/supernova-machine/maria_gp_wvl_decomp.py\u001b[0m in \u001b[0;36mwlt_decomp\u001b[0;34m(dict_data)\u001b[0m\n\u001b[1;32m     92\u001b[0m     \u001b[0;32mimport\u001b[0m \u001b[0mpywt\u001b[0m\u001b[0;34m\u001b[0m\u001b[0m\n\u001b[1;32m     93\u001b[0m     \u001b[0mwavelet_object\u001b[0m \u001b[0;34m=\u001b[0m \u001b[0mpywt\u001b[0m\u001b[0;34m.\u001b[0m\u001b[0mWavelet\u001b[0m\u001b[0;34m(\u001b[0m\u001b[0;34m'db1'\u001b[0m\u001b[0;34m)\u001b[0m\u001b[0;34m\u001b[0m\u001b[0m\n\u001b[0;32m---> 94\u001b[0;31m     \u001b[0mcoeff_g\u001b[0m \u001b[0;34m=\u001b[0m \u001b[0mpywt\u001b[0m\u001b[0;34m.\u001b[0m\u001b[0mswt\u001b[0m\u001b[0;34m(\u001b[0m\u001b[0mdict_results\u001b[0m\u001b[0;34m[\u001b[0m\u001b[0;34m'gband'\u001b[0m\u001b[0;34m]\u001b[0m\u001b[0;34m[\u001b[0m\u001b[0;36m0\u001b[0m\u001b[0;34m]\u001b[0m\u001b[0;34m,\u001b[0m \u001b[0mwavelet_object\u001b[0m\u001b[0;34m)\u001b[0m\u001b[0;34m\u001b[0m\u001b[0m\n\u001b[0m\u001b[1;32m     95\u001b[0m     \u001b[0mcoeff_r\u001b[0m \u001b[0;34m=\u001b[0m \u001b[0mpywt\u001b[0m\u001b[0;34m.\u001b[0m\u001b[0mswt\u001b[0m\u001b[0;34m(\u001b[0m\u001b[0mdict_results\u001b[0m\u001b[0;34m[\u001b[0m\u001b[0;34m'rband'\u001b[0m\u001b[0;34m]\u001b[0m\u001b[0;34m[\u001b[0m\u001b[0;36m0\u001b[0m\u001b[0;34m]\u001b[0m\u001b[0;34m,\u001b[0m \u001b[0mwavelet_object\u001b[0m\u001b[0;34m)\u001b[0m\u001b[0;34m\u001b[0m\u001b[0m\n\u001b[1;32m     96\u001b[0m     \u001b[0mcoeff_i\u001b[0m \u001b[0;34m=\u001b[0m \u001b[0mpywt\u001b[0m\u001b[0;34m.\u001b[0m\u001b[0mswt\u001b[0m\u001b[0;34m(\u001b[0m\u001b[0mdict_results\u001b[0m\u001b[0;34m[\u001b[0m\u001b[0;34m'iband'\u001b[0m\u001b[0;34m]\u001b[0m\u001b[0;34m[\u001b[0m\u001b[0;36m0\u001b[0m\u001b[0;34m]\u001b[0m\u001b[0;34m,\u001b[0m \u001b[0mwavelet_object\u001b[0m\u001b[0;34m)\u001b[0m\u001b[0;34m\u001b[0m\u001b[0m\n",
      "\u001b[0;31mNameError\u001b[0m: global name 'dict_results' is not defined"
     ]
    }
   ],
   "source": [
    "decomp=mine.wlt_decomp(res)"
   ]
  },
  {
   "cell_type": "code",
   "execution_count": null,
   "metadata": {},
   "outputs": [],
   "source": []
  }
 ],
 "metadata": {
  "anaconda-cloud": {},
  "kernelspec": {
   "display_name": "Python [conda root]",
   "language": "python",
   "name": "conda-root-py"
  },
  "language_info": {
   "codemirror_mode": {
    "name": "ipython",
    "version": 2
   },
   "file_extension": ".py",
   "mimetype": "text/x-python",
   "name": "python",
   "nbconvert_exporter": "python",
   "pygments_lexer": "ipython2",
   "version": "2.7.12"
  }
 },
 "nbformat": 4,
 "nbformat_minor": 2
}
